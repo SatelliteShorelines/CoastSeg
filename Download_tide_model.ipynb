{
 "cells": [
  {
   "cell_type": "markdown",
   "id": "fc759fee-473d-4d9b-96c9-e4f332e428a1",
   "metadata": {},
   "source": [
    "# Download Tide Model\n",
    "---\n",
    "This notebook will guide you step-by-step on how to:\n",
    "1. Create an AVISO account.\n",
    "2. Download a tide model.\n",
    "3. Clip the tide model.\n",
    "4. Validate the clipped tide model.\n"
   ]
  },
  {
   "cell_type": "markdown",
   "id": "b074a0e8-48b2-49e1-8b6f-6aec81561062",
   "metadata": {},
   "source": [
    "# Create an AVISO Account for Accessing the FES2014 / FES2012 Oceanic Tides Heights Model\n",
    "---\n",
    "### Step 1: Registration\n",
    "- **Sign Up:** Begin by registering on the AVISO platform. Visit the [AVISO Registration Page ](https://www.aviso.altimetry.fr/en/data/data-access/registration-form.html) to create your account.\n",
    "### Step 2: Select the FES 2014 Model\n",
    "- **Model Selection:** During the registration process, you'll be presented with various data models to choose from. Ensure you select the **FES2014 / FES2012 (Oceanic Tides Heights)** model.\n",
    "   \n",
    "![image](https://github.com/Doodleverse/CoastSeg/assets/61564689/5f188ced-0f7e-4732-b065-8eb8f2d54986)\n",
    "\n",
    "### Step 3: Account Verification\n",
    "- **Confirmation Email:** After completing the registration, AVISO will send you a confirmation email. Check your inbox (and spam folder if necessary) for this email.\r",
    "- **Verify Your Account**: Click on the link provided in the email to verify your account. This step is crucial to activate your account and gain access to the data models.\n",
    "\n",
    "### Step 4: Accessing Your Dashboard\n",
    "- **Login:** Once your account is verified, [log into your AVISO account.](https://www.aviso.altimetry.fr/en/my-aviso-plus.html)\n",
    "- **Navigate to Products:** On your account dashboard, you'll find a left side menu. Click on the **My products** option.\n",
    "![image](https://github.com/Doodleverse/CoastSeg/assets/61564689/bf5382f0-6bc0-4867-893d-c8f84a3d3760)\n",
    "\n",
    "### Step 5: Confirm Your Subscription\n",
    "- **Check Your Subscriptions:** In the \"Your current subscriptions\" section, ensure that the **FES2014 / FES2012 (Oceanic Tides Heights)** model is listed. This confirms that you've successfully subscribed to the desired model.\n",
    "\n",
    "![image](https://github.com/Doodleverse/CoastSeg/assets/61564689/d5758b7c-7a4a-4f48-8b0b-244a0f8d7d7a)"
   ]
  },
  {
   "cell_type": "markdown",
   "id": "47ebef3c-194f-48f0-af35-14e240f1279e",
   "metadata": {},
   "source": [
    "# Download the Tide Model\n",
    "---\n",
    "## ⚠️ Prerequisites\n",
    "Before proceeding with the download, please ensure the following:\n",
    "\n",
    "- **Storage:** Ensure you have at least 14GB of free space on your computer. The FES2014 model is extensive.\n",
    "- **Time:** The entire process of downloading and preparing the model for CoastSeg takes approximately 3 - 4 hours. However, this is a one-time setup.\n",
    "\n",
    "## Step 1: Get Credintals for Tide Model\n",
    "### Requirements:\n",
    "1. **AVISO Credentials:**\n",
    "- Your AVISO username\n",
    "- Your AVISO password\n",
    "2. **Storage:** A minimum of 14.6 GB of free space on your computer.\n",
    "## Step 2: Download the Tide Model\n",
    "Enter your credentials and click Go\n",
    "\n",
    "## Troubleshooting:\n",
    "If you encounter issues during the download:\n",
    "\n",
    "1. **Account Verification:** Ensure your AVISO account is verified. An unverified account will restrict model downloads.\n",
    "2. **Server Downtime:** The AVISO server might occasionally experience downtimes. If you suspect this is the case, wait for a few hours and attempt the download again."
   ]
  },
  {
   "cell_type": "code",
   "execution_count": 1,
   "id": "2c9db87b-1512-4ac7-9e60-961f871f07b9",
   "metadata": {},
   "outputs": [
    {
     "data": {
      "application/vnd.jupyter.widget-view+json": {
       "model_id": "184dca22773f4c12ab94b10a189ea55e",
       "version_major": 2,
       "version_minor": 0
      },
      "text/plain": [
       "Text(value='', description='Username:', placeholder='Enter username')"
      ]
     },
     "metadata": {},
     "output_type": "display_data"
    },
    {
     "data": {
      "application/vnd.jupyter.widget-view+json": {
       "model_id": "e78214c2301e446b94de0cbe0a898e91",
       "version_major": 2,
       "version_minor": 0
      },
      "text/plain": [
       "Password(description='Password:', placeholder='Enter password')"
      ]
     },
     "metadata": {},
     "output_type": "display_data"
    },
    {
     "data": {
      "application/vnd.jupyter.widget-view+json": {
       "model_id": "9998db3f74da4a389e11dc95ff671255",
       "version_major": 2,
       "version_minor": 0
      },
      "text/plain": [
       "Button(description='Submit', icon='check', style=ButtonStyle(), tooltip='Download Model')"
      ]
     },
     "metadata": {},
     "output_type": "display_data"
    },
    {
     "data": {
      "application/vnd.jupyter.widget-view+json": {
       "model_id": "04744c4787f844af82d0763adc9f171d",
       "version_major": 2,
       "version_minor": 0
      },
      "text/plain": [
       "Output()"
      ]
     },
     "metadata": {},
     "output_type": "display_data"
    }
   ],
   "source": [
    "import ipywidgets as widgets\n",
    "from IPython.display import display\n",
    "from coastseg import download_tide_model\n",
    "\n",
    "# Create an output widget to capture error messages or other outputs\n",
    "output_widget = widgets.Output()\n",
    "\n",
    "# Create text input widget for username\n",
    "username_input = widgets.Text(\n",
    "    value='',\n",
    "    placeholder='Enter username',\n",
    "    description='Username:',\n",
    "    disabled=False\n",
    ")\n",
    "\n",
    "# Create password input widget\n",
    "password_input = widgets.Password(\n",
    "    value='',\n",
    "    placeholder='Enter password',\n",
    "    description='Password:',\n",
    "    disabled=False\n",
    ")\n",
    "\n",
    "# Define a function to be called when the button is clicked\n",
    "def on_button_click(button):\n",
    "    with output_widget:\n",
    "        # Clear any previous outputs\n",
    "        output_widget.clear_output()\n",
    "        try:\n",
    "            username = username_input.value\n",
    "            password = password_input.value\n",
    "            # Handle the username and password here\n",
    "            download_tide_model.download_fes_tides(user=username,password=password)\n",
    "            # For security reasons, avoid printing the password\n",
    "        except Exception as e:\n",
    "            print(f\"Error: {e}\")\n",
    "\n",
    "# Create a button and set its properties\n",
    "submit_button = widgets.Button(\n",
    "    description='Submit',\n",
    "    disabled=False,\n",
    "    button_style='', # 'success', 'info', 'warning', 'danger' or ''\n",
    "    tooltip='Download Model',\n",
    "    icon='check'\n",
    ")\n",
    "\n",
    "# Link the button click event to our defined function\n",
    "submit_button.on_click(on_button_click)\n",
    "\n",
    "# Display the widgets\n",
    "display(username_input, password_input, submit_button,output_widget)"
   ]
  },
  {
   "cell_type": "markdown",
   "id": "be3b9f79-b8a1-4532-aa3c-e88491575458",
   "metadata": {},
   "source": [
    "## 2. Clipping the Tide Model to the United States\n",
    "---\n",
    "### Overview\r\n",
    "The global tide mode  can be computationally intensive when making predictions across vast areas.To optimize and streamline our tide predictions, we are adapting the global tide model to focus specifically on the United States. By segmenting the US into smaller, more manageable regions, we can enhance the speed and efficiency of our predictions.. By doing so, we can quickly identify and load the relevant regional model based on a given latitude and longitude, making tide predictions faster and more efficien.."
   ]
  },
  {
   "cell_type": "code",
   "execution_count": 1,
   "id": "edae3939-0949-4fbc-885d-9c3d83242204",
   "metadata": {},
   "outputs": [
    {
     "data": {
      "application/vnd.jupyter.widget-view+json": {
       "model_id": "9227c23d696449248376912b75494028",
       "version_major": 2,
       "version_minor": 0
      },
      "text/plain": [
       "Button(description='Clip Model', icon='scissors', style=ButtonStyle(), tooltip='Clip Model')"
      ]
     },
     "metadata": {},
     "output_type": "display_data"
    },
    {
     "data": {
      "application/vnd.jupyter.widget-view+json": {
       "model_id": "dc70ef3798d244b98d0452fb2e26470f",
       "version_major": 2,
       "version_minor": 0
      },
      "text/plain": [
       "Output()"
      ]
     },
     "metadata": {},
     "output_type": "display_data"
    }
   ],
   "source": [
    "import ipywidgets as widgets\n",
    "from IPython.display import display\n",
    "from coastseg import download_tide_model\n",
    "\n",
    "# Create an output widget to capture error messages or other outputs\n",
    "output_widget = widgets.Output()\n",
    "\n",
    "# Define a function to be called when the button is clicked\n",
    "def on_clipbutton_click(button):\n",
    "    with output_widget:\n",
    "        # Clear any previous outputs\n",
    "        output_widget.clear_output()\n",
    "        try:\n",
    "            # Handle the username and password here\n",
    "            download_tide_model.clip_model_to_regions()\n",
    "            # For security reasons, avoid printing the password\n",
    "        except Exception as e:\n",
    "            print(f\"Error: {e}\")\n",
    "\n",
    "# Create a button and set its properties\n",
    "clip_button = widgets.Button(\n",
    "    description='Clip Model',\n",
    "    disabled=False,\n",
    "    button_style='',\n",
    "    tooltip='Clip Model',\n",
    "    icon='scissors'\n",
    ")\n",
    "\n",
    "# Link the button click event to our defined function\n",
    "clip_button.on_click(on_clipbutton_click)\n",
    "\n",
    "# Display the widgets\n",
    "display(clip_button,output_widget)"
   ]
  },
  {
   "cell_type": "markdown",
   "id": "bef75775-67f7-43fa-b258-a72dab515a87",
   "metadata": {},
   "source": [
    "# Validate Tide Model Downloaded\n",
    "The following code will validate that the tide model was downloaded and clipped correctly.\n",
    "If any error messages appear try deleting the tide_model directory located in the coastseg directory, then try downloading and clipping the model again."
   ]
  },
  {
   "cell_type": "code",
   "execution_count": null,
   "id": "959f4d30-d7a9-437a-b0a0-f05773159eac",
   "metadata": {},
   "outputs": [],
   "source": [
    "from coastseg import tide_correction\n",
    "try:\n",
    "    model_location = tide_correction.get_tide_model_location()\n",
    "except Exception as e:\n",
    "    print(f\"Something went wrong.Try deleting the tide_model directory located in the coastseg directory, then try downloading and clipping the model again.\")\n",
    "    print(e)\n",
    "else:\n",
    "    print(f\"The downloaded tide is at '{model_location}'\")"
   ]
  },
  {
   "cell_type": "code",
   "execution_count": null,
   "id": "0d2356ef-ce2d-4fc3-bfe5-104a7b01f8cd",
   "metadata": {},
   "outputs": [],
   "source": []
  }
 ],
 "metadata": {
  "kernelspec": {
   "display_name": "Python 3 (ipykernel)",
   "language": "python",
   "name": "python3"
  },
  "language_info": {
   "codemirror_mode": {
    "name": "ipython",
    "version": 3
   },
   "file_extension": ".py",
   "mimetype": "text/x-python",
   "name": "python",
   "nbconvert_exporter": "python",
   "pygments_lexer": "ipython3",
   "version": "3.10.12"
  }
 },
 "nbformat": 4,
 "nbformat_minor": 5
}
