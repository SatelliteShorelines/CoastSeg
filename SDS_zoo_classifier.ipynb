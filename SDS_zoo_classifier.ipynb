{
 "cells": [
  {
   "cell_type": "markdown",
   "id": "f90e7470-069d-49d4-b402-057c553b1b38",
   "metadata": {},
   "source": [
    "# CoastSeg Image Segmentation Models\n",
    "\n",
    "**Purpose**: This notebook contains an interactive dashboard that can be used to load satellite imagery and use any of the available image segmentation models to segment the satellite imagery\n",
    "\n",
    "**How it  Works**: Select the model you want to use, then select settings that will be used to run your model and then click either **Select Data Directory** or **Select Images**  to load satellite imagery for the model to run on."
   ]
  },
  {
   "cell_type": "markdown",
   "id": "9300e21d-fb60-463a-b3af-19626827ffcf",
   "metadata": {},
   "source": [
    "## How to Run Image Segmentation Models on the Downloaded Imagery\n",
    "---\n",
    "1. Select whether your imagery is type **RGB**,**NDWI**,**MNDWI** or **RGB+MNDWI+NDWI**(which is 5 band imagery).\n",
    " - If you choose a **NDWI**, **MNDWI** or **RGB+MNDWI+NDWI** the **RGB** will automatically be converted to these the selected type.\n",
    "2. Select the model you want to use.\n",
    "3. Select **Ensemble** or **Best** (Ensemble is recommended because it uses multiple models to create more accurate predictions).\n",
    "- **Best:** Uses only the best model available on the images.\n",
    " </br> - Using only the best model typically means each prediction takes less time because only a single model is used to make the prediction. However the resulting segmentation may not be as accurate as with the ensemble model.\n",
    "</br>\n",
    "</br>\n",
    "- **Ensemble:** Uses all the models available on the images.\n",
    " </br> - Ensemble modeling uses multiple models to create more accurate predictions, this means it takes longer to make a single predicition but the resulting segmentation will generally be more accurate.\n",
    "4. Select a directory of imagery to run the model.\n",
    "  - Select an ROI directory under the `data` directory\n",
    "  - Always select a directory with 'RGB' as the name.\n",
    "## Need More Help?\n",
    "Check out the CoastSeg Wiki\n",
    "https://github.com/Doodleverse/CoastSeg/wiki"
   ]
  },
  {
   "cell_type": "code",
   "execution_count": null,
   "id": "ac6bcc07-fddf-41ba-a2a2-082e751114b6",
   "metadata": {},
   "outputs": [],
   "source": [
    "from coastseg import coastseg_logs\n",
    "from coastseg.models_UI import UI_Models\n",
    "models_ui = UI_Models()\n",
    "models_ui.create_dashboard()"
   ]
  }
 ],
 "metadata": {
  "kernelspec": {
   "display_name": "Python 3 (ipykernel)",
   "language": "python",
   "name": "python3"
  },
  "language_info": {
   "codemirror_mode": {
    "name": "ipython",
    "version": 3
   },
   "file_extension": ".py",
   "mimetype": "text/x-python",
   "name": "python",
   "nbconvert_exporter": "python",
   "pygments_lexer": "ipython3",
   "version": "3.10.12"
  }
 },
 "nbformat": 4,
 "nbformat_minor": 5
}
